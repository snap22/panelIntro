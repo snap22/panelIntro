{
 "cells": [
  {
   "cell_type": "markdown",
   "id": "00d26779-3f5f-4160-b5db-61dcc3ea8cb4",
   "metadata": {},
   "source": [
    "![Panel logo](images/logo.png)"
   ]
  },
  {
   "cell_type": "code",
   "execution_count": null,
   "id": "5a284934-6124-46a8-982d-f1e8c89ae830",
   "metadata": {},
   "outputs": [],
   "source": []
  }
 ],
 "metadata": {
  "jupytext": {
   "cell_metadata_filter": "-all",
   "notebook_metadata_filter": "-all"
  },
  "kernelspec": {
   "display_name": "Python 3 (ipykernel)",
   "language": "python",
   "name": "python3"
  },
  "language_info": {
   "codemirror_mode": {
    "name": "ipython",
    "version": 3
   },
   "file_extension": ".py",
   "mimetype": "text/x-python",
   "name": "python",
   "nbconvert_exporter": "python",
   "pygments_lexer": "ipython3",
   "version": "3.10.5"
  }
 },
 "nbformat": 4,
 "nbformat_minor": 5
}
